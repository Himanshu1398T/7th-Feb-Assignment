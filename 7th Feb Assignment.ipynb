{
 "cells": [
  {
   "cell_type": "markdown",
   "id": "ac548bf2",
   "metadata": {},
   "source": [
    "### Q1. You are writing code for a company. The requirement of the company is that you create a python function that will check whether the password entered by the user is correct or not. The function should take the password as input and return the string “Valid Password” if the entered password follows the below-given password guidelines else it should return “Invalid Password”.\n",
    "\n",
    "Note:\n",
    "1. The Password should contain at least two uppercase letters and at least two lowercase letters.</br>\n",
    "2. The Password should contain at least a number and three special characters. </br>\n",
    "3. The length of the password should be 10 characters long.</br>\n"
   ]
  },
  {
   "cell_type": "code",
   "execution_count": 1,
   "id": "43ed9886",
   "metadata": {},
   "outputs": [],
   "source": [
    "def check_password(password):\n",
    "    # checking length of password\n",
    "    if len(password) != 10:\n",
    "        return \"Invalid Password\"\n",
    "    \n",
    "    # checking for at least two uppercase letters and at least two lowercase letters\n",
    "    uppercase_count = 0\n",
    "    lowercase_count = 0\n",
    "    for char in password:\n",
    "        if char.isupper():\n",
    "            uppercase_count += 1\n",
    "        elif char.islower():\n",
    "            lowercase_count += 1\n",
    "    if uppercase_count < 2 or lowercase_count < 2:\n",
    "        return \"Invalid Password\"\n",
    "    \n",
    "    # checking for at least a number and three special characters\n",
    "    digit_count = 0\n",
    "    special_count = 0\n",
    "    for char in password:\n",
    "        if char.isdigit():\n",
    "            digit_count += 1\n",
    "        elif char in \"!@#$%^&*()_+-=[]{}|;':\\\"<>,.?/\":\n",
    "            special_count += 1\n",
    "    if digit_count == 0 or special_count < 3:\n",
    "        return \"Invalid Password\"\n",
    "    \n",
    "    # if password meets all guidelines\n",
    "    return \"Valid Password\"\n"
   ]
  },
  {
   "cell_type": "code",
   "execution_count": 2,
   "id": "76d907b2",
   "metadata": {},
   "outputs": [
    {
     "name": "stdout",
     "output_type": "stream",
     "text": [
      "Valid Password\n"
     ]
    }
   ],
   "source": [
    "password = \"PAss123!@#\"\n",
    "result = check_password(password)\n",
    "print(result)"
   ]
  },
  {
   "cell_type": "markdown",
   "id": "efc3efe9",
   "metadata": {},
   "source": [
    "### Q2. Solve the below-given questions using at least one of the following:\n",
    "#### 1. Lambda function\n",
    "#### 2. Filter function\n",
    "#### 3. Map function\n",
    "#### 4. List Comprehension\n",
    "\n",
    "**&#x2022; Check if the string starts with a particular letter. </br>\n",
    "&#x2022; Check if the string is numeric. </br>\n",
    "&#x2022; Sort a list of tuples having fruit names and their quantity. [(\"mango\",99),(\"orange\",80), (\"grapes\", 1000)] </br>\n",
    "&#x2022; Find the squares of numbers from 1 to 10. </br>\n",
    "&#x2022; Find the cube root of numbers from 1 to 10. </br>\n",
    "&#x2022; Check if a given number is even. </br>\n",
    "&#x2022; Filter odd numbers from the given list. </br>\n",
    "[1,2,3,4,5,6,7,8,9,10] </br>\n",
    "&#x2022; Sort a list of integers into positive and negative integers lists.</br>\n",
    "[1,2,3,4,5,6,-1,-2,-3,-4,-5,0]**"
   ]
  },
  {
   "cell_type": "code",
   "execution_count": 3,
   "id": "48b08b4a",
   "metadata": {},
   "outputs": [
    {
     "name": "stdout",
     "output_type": "stream",
     "text": [
      "True\n"
     ]
    }
   ],
   "source": [
    "# 1.Check if the string starts with a particular letter\n",
    "strings = [\"apple\", \"banana\", \"orange\", \"grape\"]\n",
    "letter = \"a\"\n",
    "filtered_strings = list(filter(lambda s: s.startswith(letter), strings))\n",
    "print(bool(filtered_strings))"
   ]
  },
  {
   "cell_type": "code",
   "execution_count": 4,
   "id": "a1155217",
   "metadata": {},
   "outputs": [
    {
     "name": "stdout",
     "output_type": "stream",
     "text": [
      "True\n"
     ]
    }
   ],
   "source": [
    "# 2.Check if the string is numeric\n",
    "strings = [\"123\", \"abc\", \"456\", \"def\"]\n",
    "filtered_strings = list(filter(lambda s: s.isnumeric(), strings))\n",
    "print(bool(filtered_strings))"
   ]
  },
  {
   "cell_type": "code",
   "execution_count": 5,
   "id": "ab3a2363",
   "metadata": {},
   "outputs": [
    {
     "name": "stdout",
     "output_type": "stream",
     "text": [
      "[('orange', 80), ('mango', 99), ('grapes', 1000)]\n"
     ]
    }
   ],
   "source": [
    "# 3.Sort a list of tuples having fruit names and their quantity \n",
    "fruits = [(\"mango\",99),(\"orange\",80), (\"grapes\", 1000)]\n",
    "fruits.sort(key=lambda x: x[1])\n",
    "print(fruits)"
   ]
  },
  {
   "cell_type": "code",
   "execution_count": 6,
   "id": "1bede427",
   "metadata": {},
   "outputs": [
    {
     "name": "stdout",
     "output_type": "stream",
     "text": [
      "[1, 4, 9, 16, 25, 36, 49, 64, 81, 100]\n"
     ]
    }
   ],
   "source": [
    "# 4.Find the squares of numbers from 1 to 10 \n",
    "squares = [i**2 for i in range(1,11)]\n",
    "print(squares)"
   ]
  },
  {
   "cell_type": "code",
   "execution_count": 7,
   "id": "d1c2fe8b",
   "metadata": {},
   "outputs": [
    {
     "name": "stdout",
     "output_type": "stream",
     "text": [
      "[1.0, 1.2599210498948732, 1.4422495703074083, 1.5874010519681994, 1.7099759466766968, 1.8171205928321397, 1.912931182772389, 2.0, 2.080083823051904, 2.154434690031884]\n"
     ]
    }
   ],
   "source": [
    "# 5.Find the cube root of numbers from 1 to 10\n",
    "cuberoots = map(lambda x: (x**(1/3)), range(1, 11))\n",
    "print(list(cuberoots))"
   ]
  },
  {
   "cell_type": "code",
   "execution_count": 8,
   "id": "56b558c2",
   "metadata": {},
   "outputs": [
    {
     "name": "stdout",
     "output_type": "stream",
     "text": [
      "True\n"
     ]
    }
   ],
   "source": [
    "# 6.Check if a given number is even\n",
    "numbers = [1, 2, 3, 4, 5, 6, 7, 8, 9, 10]\n",
    "even_numbers = list(filter(lambda x: x%2==0, numbers))\n",
    "print(bool(even_numbers))"
   ]
  },
  {
   "cell_type": "code",
   "execution_count": 9,
   "id": "622575e2",
   "metadata": {},
   "outputs": [
    {
     "name": "stdout",
     "output_type": "stream",
     "text": [
      "[1, 3, 5, 7, 9]\n"
     ]
    }
   ],
   "source": [
    "# 7.Filter odd numbers from the given list\n",
    "numbers = [1, 2, 3, 4, 5, 6, 7, 8, 9, 10]\n",
    "odd_numbers = [num for num in numbers if num%2!=0]\n",
    "print(odd_numbers)"
   ]
  },
  {
   "cell_type": "code",
   "execution_count": 10,
   "id": "4a9e283c",
   "metadata": {},
   "outputs": [
    {
     "name": "stdout",
     "output_type": "stream",
     "text": [
      "Positive numbers: [1, 2, 3, 4, 5, 6]\n",
      "Negative numbers: [-1, -2, -3, -4, -5]\n"
     ]
    }
   ],
   "source": [
    "# 8.Sort a list of integers into positive and negative integers lists\n",
    "numbers = [1,2,3,4,5,6,-1,-2,-3,-4,-5,0]\n",
    "positive_numbers = [num for num in numbers if num > 0]\n",
    "negative_numbers = [num for num in numbers if num < 0]\n",
    "print(\"Positive numbers:\", positive_numbers)\n",
    "print(\"Negative numbers:\", negative_numbers)"
   ]
  }
 ],
 "metadata": {
  "kernelspec": {
   "display_name": "Python 3 (ipykernel)",
   "language": "python",
   "name": "python3"
  },
  "language_info": {
   "codemirror_mode": {
    "name": "ipython",
    "version": 3
   },
   "file_extension": ".py",
   "mimetype": "text/x-python",
   "name": "python",
   "nbconvert_exporter": "python",
   "pygments_lexer": "ipython3",
   "version": "3.9.13"
  }
 },
 "nbformat": 4,
 "nbformat_minor": 5
}
